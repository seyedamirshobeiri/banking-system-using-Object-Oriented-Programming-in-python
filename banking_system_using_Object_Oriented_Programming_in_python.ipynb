{
 "cells": [
  {
   "cell_type": "code",
   "execution_count": 50,
   "metadata": {},
   "outputs": [],
   "source": [
    "#Parent Class\n",
    "class user():\n",
    "    def __init__(self,name,age,gender):\n",
    "        self.name=name\n",
    "        self.age=age\n",
    "        self.gender=gender\n",
    "    def show_details(self):\n",
    "        print('Personal Details:')\n",
    "        print('Name:',self.name)\n",
    "        print('Age:',self.age)\n",
    "        print('Gender:',self.gender)\n",
    "#Child Class\n",
    "class Bank(user):\n",
    "    def __init__(self,name,age,gender):\n",
    "        super().__init__(name,age,gender)\n",
    "        self.balance=0\n",
    "    def deposit(self,amount):\n",
    "        self.amount=amount\n",
    "        self.balance+=self.amount\n",
    "        print(\"Account balance has been update: $\",self.balance)\n",
    "    def withdraw(self,amount):\n",
    "        self.amount=amount\n",
    "        if(self.amount > self.balance):\n",
    "            print('Insufficent funds | balance available:$',self.balance)\n",
    "        else:\n",
    "            self.balance-=self.amount\n",
    "            print('Account balance has been updated :$',self.balance)\n",
    "    def view_balance(self):\n",
    "        self.show_details()\n",
    "        print('Account balance :$',self.balance)\n"
   ]
  }
 ],
 "metadata": {
  "kernelspec": {
   "display_name": "Python 3",
   "language": "python",
   "name": "python3"
  },
  "language_info": {
   "codemirror_mode": {
    "name": "ipython",
    "version": 3
   },
   "file_extension": ".py",
   "mimetype": "text/x-python",
   "name": "python",
   "nbconvert_exporter": "python",
   "pygments_lexer": "ipython3",
   "version": "3.8.3"
  }
 },
 "nbformat": 4,
 "nbformat_minor": 4
}
